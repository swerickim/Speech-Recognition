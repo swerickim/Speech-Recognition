{
 "cells": [
  {
   "cell_type": "code",
   "execution_count": 14,
   "id": "a0fae00a",
   "metadata": {
    "scrolled": false
   },
   "outputs": [
    {
     "name": "stdout",
     "output_type": "stream",
     "text": [
      "Requirement already satisfied: vosk in c:\\users\\sangw\\miniconda3\\lib\\site-packages (0.3.45)\n",
      "Requirement already satisfied: srt in c:\\users\\sangw\\miniconda3\\lib\\site-packages (from vosk) (3.5.3)\n",
      "Requirement already satisfied: cffi>=1.0 in c:\\users\\sangw\\miniconda3\\lib\\site-packages (from vosk) (1.15.0)\n",
      "Requirement already satisfied: requests in c:\\users\\sangw\\miniconda3\\lib\\site-packages (from vosk) (2.27.1)\n",
      "Requirement already satisfied: tqdm in c:\\users\\sangw\\miniconda3\\lib\\site-packages (from vosk) (4.63.0)\n",
      "Requirement already satisfied: websockets in c:\\users\\sangw\\miniconda3\\lib\\site-packages (from vosk) (11.0.3)\n",
      "Requirement already satisfied: pycparser in c:\\users\\sangw\\miniconda3\\lib\\site-packages (from cffi>=1.0->vosk) (2.21)\n",
      "Requirement already satisfied: charset-normalizer~=2.0.0 in c:\\users\\sangw\\miniconda3\\lib\\site-packages (from requests->vosk) (2.0.4)\n",
      "Requirement already satisfied: certifi>=2017.4.17 in c:\\users\\sangw\\miniconda3\\lib\\site-packages (from requests->vosk) (2023.5.7)\n",
      "Requirement already satisfied: urllib3<1.27,>=1.21.1 in c:\\users\\sangw\\miniconda3\\lib\\site-packages (from requests->vosk) (1.26.8)\n",
      "Requirement already satisfied: idna<4,>=2.5 in c:\\users\\sangw\\miniconda3\\lib\\site-packages (from requests->vosk) (3.3)\n",
      "Requirement already satisfied: colorama in c:\\users\\sangw\\miniconda3\\lib\\site-packages (from tqdm->vosk) (0.4.4)\n",
      "Note: you may need to restart the kernel to use updated packages.\n"
     ]
    }
   ],
   "source": [
    "# Speech regonition using Vosk\n",
    "%pip install vosk"
   ]
  },
  {
   "cell_type": "code",
   "execution_count": 15,
   "id": "4b585f10",
   "metadata": {},
   "outputs": [],
   "source": [
    "from vosk import Model, KaldiRecognizer"
   ]
  },
  {
   "cell_type": "code",
   "execution_count": 47,
   "id": "e263d5fd",
   "metadata": {},
   "outputs": [],
   "source": [
    "FRAME_RATE = 16000\n",
    "CHANNELS = 1\n",
    "\n",
    "model = Model(model_name = \"vosk-model-en-us-0.22\")\n",
    "\n",
    "rec = KaldiRecognizer(model, FRAME_RATE)\n",
    "rec.SetWords(True)"
   ]
  },
  {
   "cell_type": "code",
   "execution_count": 17,
   "id": "bd92abe9",
   "metadata": {
    "scrolled": true
   },
   "outputs": [
    {
     "name": "stdout",
     "output_type": "stream",
     "text": [
      "Requirement already satisfied: pydub in c:\\users\\sangw\\miniconda3\\lib\\site-packages (0.25.1)\n",
      "Note: you may need to restart the kernel to use updated packages.\n"
     ]
    }
   ],
   "source": [
    "%pip install pydub"
   ]
  },
  {
   "cell_type": "code",
   "execution_count": 18,
   "id": "f1b89836",
   "metadata": {},
   "outputs": [],
   "source": [
    "from pydub import AudioSegment"
   ]
  },
  {
   "cell_type": "code",
   "execution_count": 19,
   "id": "256cddae",
   "metadata": {},
   "outputs": [],
   "source": [
    "mp3 = AudioSegment.from_mp3(\"marketplace.MP3\")\n",
    "mp3 = mp3.set_channels(CHANNELS)\n",
    "mp3 = mp3.set_frame_rate(FRAME_RATE)"
   ]
  },
  {
   "cell_type": "code",
   "execution_count": 20,
   "id": "6c64ca44",
   "metadata": {},
   "outputs": [],
   "source": [
    "rec.AcceptWaveform(mp3.raw_data)\n",
    "result = rec.Result()"
   ]
  },
  {
   "cell_type": "code",
   "execution_count": 21,
   "id": "57d78051",
   "metadata": {},
   "outputs": [],
   "source": [
    "import json\n",
    "\n",
    "text = json.loads(result)[\"text\"]"
   ]
  },
  {
   "cell_type": "code",
   "execution_count": 22,
   "id": "8fe17f7f",
   "metadata": {},
   "outputs": [
    {
     "data": {
      "text/plain": [
       "\"the funny thing about the big economic news of the day the fed raising interest rates half a percentage point was that there was only really one tidbit of actual news in the news and the interest rate increase wasn't it you knew it was coming i knew it was common wall street news come and businesses knew it was common so on this fed day on this program something a little bit different jay powell in his own words five of 'em his most used economic words from today's press conference were number one of course it's the biggie two percent inflation inflation inflation inflation inflation inflation lh dealing with inflation pals big worry the thing keeping him up at night price stability is the fed's whole ballgame right now pau basically said as much today we're\""
      ]
     },
     "execution_count": 22,
     "metadata": {},
     "output_type": "execute_result"
    }
   ],
   "source": [
    "text"
   ]
  },
  {
   "cell_type": "code",
   "execution_count": 23,
   "id": "e50610fb",
   "metadata": {},
   "outputs": [
    {
     "name": "stdout",
     "output_type": "stream",
     "text": [
      "Requirement already satisfied: transformers in c:\\users\\sangw\\miniconda3\\lib\\site-packages (4.30.2)\n",
      "Requirement already satisfied: packaging>=20.0 in c:\\users\\sangw\\miniconda3\\lib\\site-packages (from transformers) (21.3)\n",
      "Requirement already satisfied: requests in c:\\users\\sangw\\miniconda3\\lib\\site-packages (from transformers) (2.27.1)\n",
      "Requirement already satisfied: safetensors>=0.3.1 in c:\\users\\sangw\\miniconda3\\lib\\site-packages (from transformers) (0.3.1)\n",
      "Requirement already satisfied: huggingface-hub<1.0,>=0.14.1 in c:\\users\\sangw\\miniconda3\\lib\\site-packages (from transformers) (0.15.1)\n",
      "Requirement already satisfied: filelock in c:\\users\\sangw\\miniconda3\\lib\\site-packages (from transformers) (3.12.2)\n",
      "Requirement already satisfied: tokenizers!=0.11.3,<0.14,>=0.11.1 in c:\\users\\sangw\\miniconda3\\lib\\site-packages (from transformers) (0.13.3)\n",
      "Requirement already satisfied: pyyaml>=5.1 in c:\\users\\sangw\\miniconda3\\lib\\site-packages (from transformers) (6.0)\n",
      "Requirement already satisfied: numpy>=1.17 in c:\\users\\sangw\\miniconda3\\lib\\site-packages (from transformers) (1.23.3)\n",
      "Requirement already satisfied: tqdm>=4.27 in c:\\users\\sangw\\miniconda3\\lib\\site-packages (from transformers) (4.63.0)\n",
      "Requirement already satisfied: regex!=2019.12.17 in c:\\users\\sangw\\miniconda3\\lib\\site-packages (from transformers) (2023.6.3)\n",
      "Requirement already satisfied: fsspec in c:\\users\\sangw\\miniconda3\\lib\\site-packages (from huggingface-hub<1.0,>=0.14.1->transformers) (2023.6.0)\n",
      "Requirement already satisfied: typing-extensions>=3.7.4.3 in c:\\users\\sangw\\miniconda3\\lib\\site-packages (from huggingface-hub<1.0,>=0.14.1->transformers) (4.3.0)\n",
      "Requirement already satisfied: pyparsing!=3.0.5,>=2.0.2 in c:\\users\\sangw\\miniconda3\\lib\\site-packages (from packaging>=20.0->transformers) (3.0.9)\n",
      "Requirement already satisfied: colorama in c:\\users\\sangw\\miniconda3\\lib\\site-packages (from tqdm>=4.27->transformers) (0.4.4)\n",
      "Requirement already satisfied: certifi>=2017.4.17 in c:\\users\\sangw\\miniconda3\\lib\\site-packages (from requests->transformers) (2023.5.7)\n",
      "Requirement already satisfied: idna<4,>=2.5 in c:\\users\\sangw\\miniconda3\\lib\\site-packages (from requests->transformers) (3.3)\n",
      "Requirement already satisfied: urllib3<1.27,>=1.21.1 in c:\\users\\sangw\\miniconda3\\lib\\site-packages (from requests->transformers) (1.26.8)\n",
      "Requirement already satisfied: charset-normalizer~=2.0.0 in c:\\users\\sangw\\miniconda3\\lib\\site-packages (from requests->transformers) (2.0.4)\n",
      "Note: you may need to restart the kernel to use updated packages.\n"
     ]
    }
   ],
   "source": [
    "%pip install transformers"
   ]
  },
  {
   "cell_type": "code",
   "execution_count": 24,
   "id": "5bb153fb",
   "metadata": {},
   "outputs": [
    {
     "name": "stdout",
     "output_type": "stream",
     "text": [
      "Requirement already satisfied: torch in c:\\users\\sangw\\miniconda3\\lib\\site-packages (2.0.1)\n",
      "Requirement already satisfied: sympy in c:\\users\\sangw\\miniconda3\\lib\\site-packages (from torch) (1.12)\n",
      "Requirement already satisfied: networkx in c:\\users\\sangw\\miniconda3\\lib\\site-packages (from torch) (3.1)\n",
      "Requirement already satisfied: jinja2 in c:\\users\\sangw\\miniconda3\\lib\\site-packages (from torch) (3.1.2)\n",
      "Requirement already satisfied: typing-extensions in c:\\users\\sangw\\miniconda3\\lib\\site-packages (from torch) (4.3.0)\n",
      "Requirement already satisfied: filelock in c:\\users\\sangw\\miniconda3\\lib\\site-packages (from torch) (3.12.2)\n",
      "Requirement already satisfied: MarkupSafe>=2.0 in c:\\users\\sangw\\miniconda3\\lib\\site-packages (from jinja2->torch) (2.1.1)\n",
      "Requirement already satisfied: mpmath>=0.19 in c:\\users\\sangw\\miniconda3\\lib\\site-packages (from sympy->torch) (1.3.0)\n",
      "Note: you may need to restart the kernel to use updated packages.\n"
     ]
    }
   ],
   "source": [
    "%pip install torch"
   ]
  },
  {
   "cell_type": "code",
   "execution_count": 25,
   "id": "1af3f7c9",
   "metadata": {
    "scrolled": true
   },
   "outputs": [],
   "source": [
    "# Adding punctuation to our transcript with recasepunc file\n",
    "\n",
    "import subprocess\n",
    "\n",
    "cased = subprocess.check_output(\"/Users/sangw/miniconda3/python recasepunc/recasepunc.py predict recasepunc/checkpoint\", shell=True, text=True, input=text)"
   ]
  },
  {
   "cell_type": "code",
   "execution_count": 26,
   "id": "53af21f6",
   "metadata": {},
   "outputs": [
    {
     "data": {
      "text/plain": [
       "\"The funny thing about the big economic news of the day, the Fed raising interest rates half a percentage point, was that there was only really one tidbit of actual news in the news. And the interest rate increase, wasn ' t it. You knew it was coming. I knew it was common. Wall Street news come and businesses knew it was common. So on this Fed day, on this program, something a little bit different. Jay Powell, in his own words, five of ' em. His most used economic words from today ' s press conference were number one, Of course, it ' s the biggie Two percent inflation, inflation, inflation, inflation, inflation, inflation. Lh dealing with inflation pals Big worry. The thing keeping him up at night, price stability, is the Fed ' s whole ballgame right now. Pau basically said as much today. We ' re.\\n\""
      ]
     },
     "execution_count": 26,
     "metadata": {},
     "output_type": "execute_result"
    }
   ],
   "source": [
    "cased"
   ]
  },
  {
   "cell_type": "code",
   "execution_count": 27,
   "id": "3dfbf957",
   "metadata": {},
   "outputs": [],
   "source": [
    "# A function to transcribe longer audio files\n",
    "\n",
    "def voice_recognition(filename):\n",
    "    model = Model(model_name = \"vosk-model-en-us-0.22\")\n",
    "\n",
    "    rec = KaldiRecognizer(model, FRAME_RATE)\n",
    "    rec.SetWords(True)\n",
    "    \n",
    "    mp3 = AudioSegment.from_mp3(filename)\n",
    "    mp3 = mp3.set_channels(CHANNELS)\n",
    "    mp3 = mp3.set_frame_rate(FRAME_RATE)\n",
    "    \n",
    "    step = 45000\n",
    "    transcript = \"\"\n",
    "    for i in range(0, len(mp3), step):\n",
    "        print(f\"Progress: {i/len(mp3)}\")\n",
    "        segment = mp3[i:i+step]\n",
    "        \n",
    "        rec.AcceptWaveform(segment.raw_data)\n",
    "        result = rec.Result()\n",
    "        \n",
    "        text = json.loads(result)[\"text\"]\n",
    "        transcript += text\n",
    "    \n",
    "    cased = subprocess.check_output(\"/Users/sangw/miniconda3/python recasepunc/recasepunc.py predict recasepunc/checkpoint\", \n",
    "                                    shell=True, text=True, input=transcript)\n",
    "    return cased"
   ]
  },
  {
   "cell_type": "code",
   "execution_count": 28,
   "id": "c6bec198",
   "metadata": {},
   "outputs": [
    {
     "name": "stdout",
     "output_type": "stream",
     "text": [
      "Progress: 0.0\n",
      "Progress: 0.9782608695652174\n"
     ]
    },
    {
     "data": {
      "text/plain": [
       "\"The funny thing about the big economic news of the day, the Fed raising interest rates half a percentage point was that there was only really one tidbit of actual news in the news. And the interest rate increase, wasn ' t it. You knew it was coming. I knew it was common Wall Street news come and businesses knew it was common. So on this Fed day on this program, something a little bit different. Jay Powell, in his own words, five of ' em. His most used economic words from today ' s press conference were Number one, Of course, it ' s the biggie Two percent inflation, inflation, inflation, inflation, inflation, inflation. Lh Dealing with inflation pals Big worry. The thing keeping him up at night, price stability, is the Fed ' s whole ballgame right now. Pau basically said as muchmuch to day award.\\n\""
      ]
     },
     "execution_count": 28,
     "metadata": {},
     "output_type": "execute_result"
    }
   ],
   "source": [
    "voice_recognition(\"marketplace.mp3\")"
   ]
  },
  {
   "cell_type": "code",
   "execution_count": 29,
   "id": "73160ec3",
   "metadata": {},
   "outputs": [
    {
     "name": "stderr",
     "output_type": "stream",
     "text": [
      "No model was supplied, defaulted to sshleifer/distilbart-cnn-12-6 and revision a4f8f3e (https://huggingface.co/sshleifer/distilbart-cnn-12-6).\n",
      "Using a pipeline without specifying a model name and revision in production is not recommended.\n"
     ]
    }
   ],
   "source": [
    "# Summarizing the transcripts using huggingface transformers\n",
    "\n",
    "from transformers import pipeline\n",
    "\n",
    "summarizer = pipeline(\"summarization\")"
   ]
  },
  {
   "cell_type": "code",
   "execution_count": 30,
   "id": "7da2232a",
   "metadata": {
    "scrolled": true
   },
   "outputs": [],
   "source": [
    "with open(\"transcript.txt\") as f:\n",
    "    transcript = f.read()"
   ]
  },
  {
   "cell_type": "code",
   "execution_count": 31,
   "id": "3cefc016",
   "metadata": {},
   "outputs": [],
   "source": [
    "split_tokens = transcript.split(\" \")\n",
    "docs = []\n",
    "\n",
    "for i in range(0, len(split_tokens), 850):\n",
    "    selection = \" \".join(split_tokens[i:(i+850)])\n",
    "    docs.append(selection)"
   ]
  },
  {
   "cell_type": "code",
   "execution_count": 32,
   "id": "b86cd690",
   "metadata": {},
   "outputs": [
    {
     "data": {
      "text/plain": [
       "[\"Turns out fifty four dollars and twenty cents was not a joke from American Public media. This is Marketplace, The in Los Angeles, CA raised on Monday today. I do believe the twenty fifth of April. Good as always to have you along. Everybody. Alright ? Just for fun, I am going to see if I can do this in two hundred and eighty characters. Which is of course Twitter ' s limit starting right now. After making a not very veiled marijuana reference in offering fifty four dollarstwenty cents a share to buy Twitter, Elon Musk has sealed the deal. As of today, Lauren Hirsch has been covering the story for the New York Times. Thanks for coming on. Thanks for having me setting aside all marijuana jokes that many people made with this price that Musk offered. And clearly he was serious. And now this has happened in an unbelievably fast timeline, right ? And we will be fast. I tell you. I was at a shower yesterday, communicating like us to where it ' s kind of casually tracking and then my source code. I think there could be detailed in my out and I got whacked How is that even possible ? And you know, I don ' t think most people never thought a deal would have happened. And even if people thought they weren ' t, it ' d be a deal. I don ' t think anyone thought it could have possibly happenedthis quickly he gets all the money together. They have these board meetings over the weekend and then today it ' s a done deal. Let me ask you this though, and and this may be a longer answer than we have time for in the program today. Why does Elon Musk want to buy Twitter ? I can tell you what he has said, which is he is. He would call himself an advocate for free speech. And he doesn ' t like the way that Twitter has managed content on it ' s platform. And he wants to change that. He ' s spoken in statement today about I kind of decentralizing it ' s contents with effectively allowing users to personalize that content that they see on the app. But I ' ll tell you a lot of people really don ' t know that is what he said, butit feels like there might be something deeper here. You know, to spend forty billion dollars largely on money, right ? I notice you didn ' t say he wants to make money. He wants to run it as a better business and show the the the The logical extension of that is here, you have an American oligarch buying a global communications platform and a mortgage. It ' s going to have to see what happens. We ' re just gonna have to see what happens. I don ' t think We have really ever seen anything like this, You know, obviously that fans have thought otherwise in both, but that was very different. He said he would not get involved at all editorially and Elon Musk has cited editorial concern because his desire in buying itnow that we don ' t really know what the end goal is here. And he sat on his TED talk the day you are bound to be announced in bed that profit is not a motive, So it ' ll be interesting to see how this turns out. It will indeed turn to the nuts and bolts of this negotiation and he comes in and says, I want to buy Twitter. And here ' s my price. Final offer, The board says, I dunno There ' s talk about a poison pill. The boards clearly not excited, and then presto Chango The board says yes, Did they just give up and say you know what, we don ' t have a better way to run this thing ? You do it. The big presto changer With Han putting together financing, many people thought he would never be able to do it, but on Wednesday on Thursday he made public that he had actually call it togetheri think more than the actual offer ended up being. So that changed the game for the board. All of a sudden they had to take the offer seriously and the pressure was mounting. Shareholders recalling and at a certain point you have to listen to your shareholders and they seem to be indicating they wanted to go with elon feel so last thing and then I ' ll let you go. Because I know you ' ve got reporting to do on your. On Twitter. I ' m on Twitter. Lots of people we both know are on Twitter, journalists and many others, but the overwhelming majority of the American public isn ' t. Why do we care about this ? That ' s an excellent question. I think it goes to what we were discussing earlier. You know, the power of. Well, certainly in\",\n",
       " \"our country, to effectivelyget pretty much anything you want. I don ' t think anyone thought that. Twitter. Western sites, but the fact that he ' s the richest person in the country makes vs. Yes, the richest person in the world makes it so in all of that, you know, as a journalist, you kind of have this very idealistic view of communications and media and how it should be. Ryan, And this really has taken the rug out from under that. Because this is a man with a clear view and he ' s going to run it with that clear view. And I think we all need to rethink their ramifications on communication in the country. Lauren Hirsch covers business and most recently the Twitter store in Atlanta, most of the New York Times. Lauren, Thanks a lot. I appreciate your time. Thanks for having me that introduction by the waytwo Hundred and forty five characters. Nailed it ! Twitter shares on this Monday up almost six percent still, though a couple of bucks shy of must offer of one hundred and fifty four dollars, twenty cents a piece Elsewhere, the major indices were up. We ' ll have the details when we do the numbers or mark your calendars for Friday. Everybody. That ' s when the latest inflation numbers are going to be out. We told you about the March Consumer Price Index couple of weeks ago, up eight and onehalf per cent year on year. As you ' re surely know by now, this Friday we get P. C. E. That ' s personal consumption expenditures, which the Federal Reserve really likes. But as we all know, everybody is watching inflation right now. There are, though some nuances in the way that people experience inflation that the official metrics just don ' t capture. So I think maybe it could be helpful to like, tell a story to sort of emphasize sort of one of the reasons that I decided to study this topic and I thought it was interesting. I ' m sorry you are, Yeah, but it ' s Jacob Orchard. So I ' m a phd candidate at U. C. San Diego and actually just finishing up my phd. And so then after that I ' ll be Doctor Orchard, But until then I ' m stillalright well then, future Doctor Orchard, please go on in twenty eleven. Bill Dudley, who was the president of the New York Fed at the time, he was doing an outreach speech to a blue collar community in New York. Another the reason for the speeches. People were concerned about cost of living just like they are today. But unlike today, the actual official measurer of inflation wasn ' t that high back then. Some prices, food and energy, of course, were going up a lot. Other prices, not really so much. The CP I, the consumer price Index, was up two point seven percent year over year when Bill Dudley gave that speech eight and a half percent day as we all knowand as an example of why the Fed wasn ' t super concerned about inflation, give an example of. You know, if you look at the ipad two, which had just come out, it ' s the same price as the ipad one and better. Introductory cost of an ipad One four hundred and ninety nine dollars. Introductory cost of an ipad two a year later, Four hundred and ninety nine dollars. You know, some prices are going down. And then someone from the audience shouted, We can ' t eat an ipad Fact check. True, And I think this just goes to show that you don ' t. Maybe the prices of some things aren ' t that important for some people, so the actual topic of my dissertation is how the price index forlow income and high income households can systematically differ over the course of the business cycle. In other words, where you are on the income spectrum determines your personal inflation rate right now from March twenty twenty two. So this last report that we got compared to March Twenty twenty one, the inflation rate for low income households was running at about nine percent. Are from high income households is much closer to the average inflation rate at eight and a half percent. In other words, inflation is high for everybody, but there is a gap. And if you step back for a second and think big picture, I kind of make sense. The two biggest sources of inflation are energy prices and food that Stephanie said Nino, professor of economics at the Universityeighty of Vermont. And for low income families, they comprise a much larger portion of the budget. So poor families undoubtedly are hit hard. And there is another piece of this. We gotta talk about inflation and jobs. The overall inflation rate is at a forty year high. The overall unemployment rate three point six percent, darn near fifty year lows But there is\",\n",
       " \"a huge caveat there. Latino unemployment rate, four point two percent in March, the black unemployment rate, six point two percent. I want to be clear that when you ask people in a survey, do they care more about unemployment or inflation. They say unemployment, they wouldrather live with some inflation and have a job that have low inflation and no job. Here ' s the thing though, you can raise interest rates to fight inflation, which the Fed does that slows the economy, and that usually increases unemployment. We call it the sacrifice ratio and the sacrifice is disproportionately paid for by people of color. That is, African Americans and Hispanics are disproportionately likely to lose their jobs and your job, which you can read as your wages, right ? That affects what you buy, which gets reflected in those inflation numbers. The overall CP I is meant to capture the spending patterns of a typical household. But really nobody ' s the typical household. And that guythis last point, how we measure inflation in this economy, then you ' ll Sickle is a professor at Wellesley also, though he ' s the chair of a National Academy of Sciences committee that is studying ways to modernize the consumer price index, make it better, right and more useful. The BLS does publish a couple of versions of the CPR already, but there ' s plenty of room for improvement. Like they could do what Jacob Orchard and other researchers member, Jacob Orchard, the almost doctor up from the top, could do what they do, using data on spending patterns to dis aggregate the sepia by step further than that would be to develop a data system where they really could link prices of particular items to the demographic characteristics of thethe people buying them. That would be kind of like the Holy Grail which would be super useful In the meanwhile, though, waiting for the Holy Grail later on this week, the Fed ' s favorite inflation metric, PC, He will tell you why that is the one that they like. Ooh one more quick thing on inflation and wages. This time. The National Association for Business Economics is out with a new survey of economists to work at big companies. Andthose economists. A record number of them say their businesses have been book and pay increases of late. Yeah, but here ' s Marketplace ' s Nancy Marshall. Cancer in Leicester Jones ' s world. You need muscle. We rely on a lot of manual labor. Jones is chief economist at the National Beer Wholesalers Association. We move cases of beverages throughout the economy. They ' re heavy junk, says some distributors are competing fiercely for workers. And it ' s like that all over seventy percent of the economists surveyed said wages rose at their companies. That ' s the highest number in the surveys forty year history, But for the most part, employers aren ' t. Boosting wayage is enough to keep up with soaring prices. Cornell labor economist Erica Grossman has a theory on that they don ' t want to get too far ahead of inflation because it ' s hard to dial that back. Some economists in their survey don ' t expect their firms to pay workers more in the future, say over the next three months. Brad her spine, a senior economist at the W. E. UpJohn Institute for Employment Research, says that ' s because employers expect inflation to moderate. People think that a lot of the supply chain issues will gradually get resolved and that the war situation in Ukraine may also eventually die down or at least get partially resolved. But in the meantime, many workers will be stuck with raises that don ' t keep up with rising powerrice is enriched by. And says inflation may not get back to normal levels until next year. I ' m Nancy Marshall. Cancer for Marketplace. The coming up, You need to keep that stock up or some one will do it for you. Well, alrighty Then first though, let ' s do the numbers that. Industrials up to thirty eight today. Seven cents per cent, thirty four thousand and forty nine. And as that picked up one hundred and sixty five points, about one point, three percent, thirty thousand fourthe s and p. Five hundred up twenty four points, almost sixteen percent finished at forty two, ninety six. Trading and Twitter was suspended for Bridges before the purchase of the social media platform was announced. Before that. Shares up five and two thirds percent left shares worth about five percent less than Musk ' s offer of fifty four dollars and twenty cents a piece. The deal hammered shares of Digital World Acquisition Corp. The spec that is trying to merge with Donald Trump ' s social platform. Share their bound twelve and nine tenths percent. Read into that what you will. News of the deal also sent shares of Musk ' s other company lower. No, not the\",\n",
       " \"Space company or the total company, the electric car company, Tesla, down seven tenths of one percent today are listening to Market ByThis Marketplace podcast is supported by Masterworks The Law of Capitalism predicted that one percent of US earners now hold more wealth than all of the middle class. And while they got richer sitting in their yachts sipping champagne during the pandemic they also got richer thanks to the amazing compounding power of their Holy Grail investments. For example, take a look at contemporary art. While most people would brush this Holy Grail investment aside, they don ' t realize that an investment in a banksy painting gave an unidentified collector ten million dollars, a Basquiat painting sold for fifty million dollars to another buyer and a warhol for an amazing one hundred and ninety five million dollars. And while most people don ' tthink they can get involved in this Holy Grail investment, A Fintech platform called Masterworks has changed all that. Masterworks allows you to invest in artworks by Banksy Basquiat and Warhol They pore over millions of data points to identify particular artworks that could soar in price. Then they purchase them. Securitize them so you can invest in these multi million dollar assets like shares. We even partnered with Masterworks so that Marketplace listeners can skip their waitlist Just go to Masterworks dot io slash Marketplace. To skip the waitlist that ' s Masterworks dot io slash marketplace. See Important disclosures at Masterworks dot. Com slash Disclaimer This Marketplace podcast is supported by Checkout dot. Com. Now, moremore than ever, businesses have had to give real thought to their digital commerce. Payments are an integral part of any business, but too often they ' re thought of as a business necessity rather than a strategic tool that can help businesses grow. For that you need, Checkout Dot. Com. Checkout dot. Com is a leading digital global payment solutions provider for brands like She and Grab, Sony, Electronics, Wise and Henkel Checkouts Flexible Payments platform is purpose built with performance, scalability and speed in mind, ideal for businesses looking to seamlessly integrate better payment solutions globally. With a dedicated team of local experts. Spanning nineteen offices and five continents, Checkout dot. Com offers a strategic partnership to help businesses, improve their acceptance rates, optimize their payments, performmince and grow their business globally. Check out Dot com exists to enable businesses and their communities to thrive in the digital economy. Discover how Checkout Dot com can help your business thrive at Checkout Dot com slash Market. That ' s checkout Dot com slash market. This is marketplace. I ' m Kai Rosedale Lauren Hirsch talked about why the Twitter board took Elon Musk ' s offer of fifty for twenty a share when we were talking of the top of the show bottom line, It ' s a good price. And there were looking out, she said, for shareholders. And that ' s the moderate American capitalism, right, maximizing shareholder value. Well, yes and no. I mean it is the mantra. But how and why it came to be that waythe marketplaces got tongue looked into that forest back in two thousand and sixteen. It all began with a professor at the University of Chicago. Economist Milton Friedman wrote this, In nineteen seventy, there is one and only one social responsibility of business to increase it ' s profits, for whom, for stockholders he wrote, This was a brand new idea that took because the old corporate model was crumbling under pressure from inflation and from weaken growth. Rick Wordsmith of the Drucker Institute is the author of The End of Loyalty, coming out this year. Some called it slump violation. Inflammation was another one circulated, but most famously was stag felation It exposed American companies as uncompetitive Many companies had gotten fat and lazy during the golden Age of American business. We just didn ' t see the same starting to come apart until the late sixties, early seventies. Friedman and his Chicago colleagues argue that companies were taking on too many social responsibilities, providing jobs, helping to fight pollution and and discrimination. It was inefficient We saw enormous amounts of waste going on. Economist Mike Jensen was a student of Freedmen ' s and he cowrote the most cited business paper ever. Shareholders suffered, He wrote, Because executives were selfish, they wanted perks You can ' t ignore the self interest of everybody. That ' s inbull And you can ' t assume that firms maximize profits. CEO is feathering their nests. Now some of us have a certain vintage. Recall the eighties film Wall Street. It stars a rather of noxious shareholder, Gordon Gekko here talking to other shareholders. You are all being boiled screwed over by these bureaucrats with their steak like hunting and fishing trips, their corporate jets and golden parachutes If you listen closely, Gordon Gekko was channeling his inner University of Chicago, Mike Jensen. If you shape up executives, shape up companies and shareholders when quite often something that\",\n",
       " \"significantly new and right were basically right isrejected by the profession because it ' s too new. But that all went away. Eventually it caught up. It stuck. Jensen went on to become a superstar Prof at Harvard Business School, where his ideas went mainstream. David Lang Staff, was an M. B. A. Student then before going on to run companies in national defense, The dominant and the accepted understanding at the time, which continues, is that business is there to make a profit for shareholders, period. So into the eighties, Echo Chamber, along with Big Hair and New Coke went three business words, maximize. Mike Jensen may not use those words, but that ' s how his ideas got applied by a whole generation of leadersroger Martin PS, former management dean at the University of Toronto. There was an obsession with shareholder value maximization as manifested in meeting your quarterly earnings. For the analysts are all happy with you, How happy ? Stocks soared twelve fold in the eighties and nineties For every one dollar in profits, eighty cents went to shareholders through dividends and what are called buybacks which brings us to the rub. A fast way to fast profits is cutting jobs. Rick Wortman of the Drucker Institute says what began to erode at this time is what he calls the corporate social contract that basically said, If you come to work every day and you work hard and you give the corporation a measureor of loyalty. We, in turn will take care of you often for the rest of your life. And all that change, wages, flattened pensions and healthcare benefits eroded. This idea of maximizing shareholder value is an important reason why all that happen. There are other reasons, the rise of technology, globalization, the decline of unions. But I ' d put it right up there with any of those other factors to many. The relevant case study here is General Electric in the nineteen Eighties, run by an old college hockey captain named Jack Welch and GE in the fifties, Like many companies, then made explicit that workers in research came first, shareholders last. But under Welsh, it downsized more than one hundred thousand workyears and five years, one of his strategies being to dump the lowest ten percent of performers. Here ' s Welch at the MIT Sloan School of Business in two thousand and five. Okay, you know exactly who the turkeys are, and they ' re right amongst you. Baseball teams do it every day. It ' s the way it is. Why should not have cats ? Welsh cut entire divisions and plants. He famously demanded that his managers fix it, sell it or close it. A lot of people initially were a little bit alarmed. Nicholas Heymann of the investment bank. William Blair is a long, long time GE analyst, going all the way back to the Eighties. He spoke by phone. G ' s actions spawned a lot more similar type of aggressive cost restructurebring across industrial America. In the late eighties and throughout the Nineties Fair or not, Welch became the face of maximizing shareholder value. It ' s winners and its losers. In his two decades at the helm, G. He met Wall Street expectations almost every single quarter, a fourteen billion dollar company became a more than four hundred billion behemoth Welch himself made nearly a billion dollars. So other executives followed, sometimes to be like him, and sometimes out of fear, Because in the mid eighties some testy shareholders with deep pockets started to buy out big companies and fire underperforming executives. There ' s accountability. This all took on different names, from corporate raidersas to today ' s activist investors, perhaps the most famous being Carl icahn Hedge fund manager Jeff Graham has written a book on these battles. It ' s called Dear Chairman, If you ' re the CEO of a company, then you have to keep that stock up. There ' s a famous quote from Carl icahn from the nineteen Eighties. You need to keep that stock up or someone will do it for you shareholders. First, it became gospel. But the question is, is it even in the scripture, does the law require it ? Cornell Law Professor Lynn Stout is the author of the Shareholder Value Myth. There is a widespread and completely erroneous belief out there that there ' s some sort of legal duty that corporate managers have to quote maximize profits or maximamy shareholder value. In Stouts view, the misplaced assumption comes from an old old case that sites stock holders interest. But to stay out of the weeds here, she argues, it did not set precedent. By contrast, you can just pick up the Supreme Court case Hobby Lobby decided just a few years ago. Read the majority opinion where Justice Alito says, and I quote, Modern corporate law does not require for profit corporations to pursue profit at the expense of everything else. Or, just to be clear, law professors still\",\n",
       " \"argue about this, but the point is it ' s far from illegal given that companies have to make profits for shareholders. And yet it became the law of the land. And to Stout, it led directly to some bad decisions and run the BP oil spillthe financial crisis, which brings us back to the man widely acclaimed as the intellectual father Mike Jensen. Is it happened exactly the way I wanted it to happen. Probably not, Jensen says. The shareholder focus in some cases went overboard. There ' s always going to be some people who take it too far and then cause damage, he says. Focusing only on stocks and stock holders is a misreading of his scholarship. For the record, he wrote in nineteen ninety that CEO should quote do what is in the shareholders ' best interest now, he says. I wouldn ' t put shareholders at the center. I ' m still unhappy about the situation where people end up thinking that shareholders are primarythere are only bosses. No. Still maximizing shareholder value remains in fashion. In one study of the S and P. Five hundred companies, the share of profits going to stockholders has gone from fifty percent in the early eighties to eighty six percent in two thousand and thirteen, leaving an ever shrinking pool of money to invest in. The businesses themselves in Washington has gotten on the marketplace. HM, The final note on the Way out day. An opportunity for you if you ' ve got a spare five million or so dollarssaw this in the Wall Street Journal today. Back in the before times, Warren Buffett auctioned off a steak lunch with him. Every year. Proceeds to a charity in San Francisco Hasn ' t happened, obviously since Two thousand and Nineteen. And this year ' s launch, we are told, will be the last. Buffett is, after all, ninety one. Anyway, bidding opens June the twelfth. The two thousand and nineteen launched, for some comparison, went for four point six million American Somalians Of course, you do get to bring seven friends are super quick. Moment of economic context. A calendar reminder, should you be so inclined. Elimusk ' s new company, Twitter, of course, reports earnings on Thursday. Our daily Production team is Unease, I ' m in and Corbyn Richard Cunningham, Real horse, John McHenry and Daisy Palacios on car. Resolved, We will see tomorrow the APIa\\n\"]"
      ]
     },
     "execution_count": 32,
     "metadata": {},
     "output_type": "execute_result"
    }
   ],
   "source": [
    "docs"
   ]
  },
  {
   "cell_type": "code",
   "execution_count": 33,
   "id": "d44c8b37",
   "metadata": {
    "scrolled": true
   },
   "outputs": [],
   "source": [
    "summaries = summarizer(docs)"
   ]
  },
  {
   "cell_type": "code",
   "execution_count": 34,
   "id": "901a66fa",
   "metadata": {},
   "outputs": [
    {
     "data": {
      "text/plain": [
       "[{'summary_text': \" This is Marketplace, The in Los Angeles, CA raised on Monday today . After making a not very veiled marijuana reference in offering fifty four dollarstwenty cents a share to buy Twitter, Elon Musk has sealed the deal . Marketplace's Lauren Hirsch has been covering the story for the New York Times . She says the overwhelming majority of the American public isn't interested in Twitter .\"},\n",
       " {'summary_text': ' Twitter shares on this Monday up almost six percent still, though a couple of bucks shy of must offer of one hundred and fifty four dollars, twenty cents a piece . Jacob Orchard, a PhD candidate at U.C. San Diego, explains how the price index forlow income and high income households can systematically differ over the course of the business cycle . The two biggest sources of inflation are energy prices and food prices .'},\n",
       " {'summary_text': \" The National Association for Business Economics is out with a new survey of economists to work at big companies . A record number of economists say their businesses have been book and pay increases of late . But for the most part, employers aren't boosting wages enough to keep up with soaring prices . Some economists in their survey don't expect their firms to pay workers more in the future .\"},\n",
       " {'summary_text': ' One percent of US earners now hold more wealth than all of the middle class . Masterworks allows you to invest in artworks by Banksy Basquiat and Warhol . Checkout dot. Com is a leading digital global payment solutions provider for brands like She and Grab, Sony and Electronics .'},\n",
       " {'summary_text': ' The dominant and the accepted understanding at the time, which continues, is that business is there to make a profit for shareholders, period . Mike Jensen went on to become a superstar Prof at Harvard Business School, where his ideas went mainstream . David Lang Staff, was an M. B. A. Student before going on to run companies in national defense .'},\n",
       " {'summary_text': ' Mike Stout: Share of profits going to stockholders has gone from fifty percent in the early eighties to eighty six percent in two thousand and thirteen . Jensen: Shareholder focus in some cases went overboard . Stout: It led directly to some bad decisions and run the BP oil spill .'}]"
      ]
     },
     "execution_count": 34,
     "metadata": {},
     "output_type": "execute_result"
    }
   ],
   "source": [
    "summaries"
   ]
  },
  {
   "cell_type": "code",
   "execution_count": 35,
   "id": "bb339903",
   "metadata": {},
   "outputs": [],
   "source": [
    "summary = \"\\n\\n\".join(d[\"summary_text\"] for d in summaries)"
   ]
  },
  {
   "cell_type": "code",
   "execution_count": 36,
   "id": "c8c8d7eb",
   "metadata": {},
   "outputs": [
    {
     "name": "stdout",
     "output_type": "stream",
     "text": [
      " This is Marketplace, The in Los Angeles, CA raised on Monday today . After making a not very veiled marijuana reference in offering fifty four dollarstwenty cents a share to buy Twitter, Elon Musk has sealed the deal . Marketplace's Lauren Hirsch has been covering the story for the New York Times . She says the overwhelming majority of the American public isn't interested in Twitter .\n",
      "\n",
      " Twitter shares on this Monday up almost six percent still, though a couple of bucks shy of must offer of one hundred and fifty four dollars, twenty cents a piece . Jacob Orchard, a PhD candidate at U.C. San Diego, explains how the price index forlow income and high income households can systematically differ over the course of the business cycle . The two biggest sources of inflation are energy prices and food prices .\n",
      "\n",
      " The National Association for Business Economics is out with a new survey of economists to work at big companies . A record number of economists say their businesses have been book and pay increases of late . But for the most part, employers aren't boosting wages enough to keep up with soaring prices . Some economists in their survey don't expect their firms to pay workers more in the future .\n",
      "\n",
      " One percent of US earners now hold more wealth than all of the middle class . Masterworks allows you to invest in artworks by Banksy Basquiat and Warhol . Checkout dot. Com is a leading digital global payment solutions provider for brands like She and Grab, Sony and Electronics .\n",
      "\n",
      " The dominant and the accepted understanding at the time, which continues, is that business is there to make a profit for shareholders, period . Mike Jensen went on to become a superstar Prof at Harvard Business School, where his ideas went mainstream . David Lang Staff, was an M. B. A. Student before going on to run companies in national defense .\n",
      "\n",
      " Mike Stout: Share of profits going to stockholders has gone from fifty percent in the early eighties to eighty six percent in two thousand and thirteen . Jensen: Shareholder focus in some cases went overboard . Stout: It led directly to some bad decisions and run the BP oil spill .\n"
     ]
    }
   ],
   "source": [
    "print(summary)"
   ]
  },
  {
   "cell_type": "code",
   "execution_count": 6,
   "id": "548c6d51",
   "metadata": {
    "scrolled": true
   },
   "outputs": [
    {
     "name": "stdout",
     "output_type": "stream",
     "text": [
      "Collecting pyaudio\n",
      "  Downloading PyAudio-0.2.13-cp39-cp39-win_amd64.whl (164 kB)\n",
      "Installing collected packages: pyaudio\n",
      "Successfully installed pyaudio-0.2.13\n",
      "Note: you may need to restart the kernel to use updated packages.\n"
     ]
    }
   ],
   "source": [
    "%pip install pyaudio"
   ]
  },
  {
   "cell_type": "code",
   "execution_count": 10,
   "id": "b94f82c1",
   "metadata": {},
   "outputs": [
    {
     "name": "stdout",
     "output_type": "stream",
     "text": [
      "Microsoft Sound Mapper - Input\n",
      "마이크 (Realtek(R) Audio)\n",
      "Microsoft Sound Mapper - Output\n",
      "Speakers/Headphones (Realtek(R)\n",
      "Primary Sound Capture Driver\n",
      "마이크 (Realtek(R) Audio)\n",
      "Primary Sound Driver\n",
      "Speakers/Headphones (Realtek(R) Audio)\n",
      "Speakers/Headphones (Realtek(R) Audio)\n",
      "마이크 (Realtek(R) Audio)\n",
      "Speakers 1 (Realtek HD Audio output with SST)\n",
      "Speakers 2 (Realtek HD Audio output with SST)\n",
      "PC 스피커 (Realtek HD Audio output with SST)\n",
      "스테레오 믹스 (Realtek HD Audio Stereo input)\n",
      "마이크 1 (Realtek HD Audio Mic input with SST)\n",
      "마이크 2 (Realtek HD Audio Mic input with SST)\n",
      "마이크 3 (Realtek HD Audio Mic input with SST)\n"
     ]
    }
   ],
   "source": [
    "import pyaudio\n",
    "\n",
    "p = pyaudio.PyAudio()\n",
    "p.get_device_count()\n",
    "\n",
    "for i in range(p.get_device_count()):\n",
    "    print(p.get_device_info_by_index(i).get('name'))"
   ]
  },
  {
   "cell_type": "code",
   "execution_count": 49,
   "id": "b49ce85a",
   "metadata": {},
   "outputs": [],
   "source": [
    "def record_microphone(seconds=10, chunk=1024, audio_format=pyaudio.paInt16):\n",
    "    p = pyaudio.PyAudio()\n",
    "\n",
    "    stream = p.open(format=audio_format,\n",
    "                    channels=CHANNELS,\n",
    "                    rate=FRAME_RATE,\n",
    "                    input=True,\n",
    "                    input_device_index=2,\n",
    "                    frames_per_buffer=chunk)\n",
    "\n",
    "    frames = []\n",
    "\n",
    "    for i in range(0, int(FRAME_RATE / chunk * seconds)):\n",
    "        data = stream.read(chunk)\n",
    "        frames.append(data)\n",
    "\n",
    "    stream.stop_stream()\n",
    "    stream.close()\n",
    "    p.terminate()\n",
    "\n",
    "    sound = AudioSegment(\n",
    "        data=b''.join(frames),\n",
    "        sample_width=p.get_sample_size(audio_format),\n",
    "        frame_rate=FRAME_RATE,\n",
    "        channels=CHANNELS\n",
    "    )\n",
    "    sound.export(\"temp.mp3\", \"mp3\")"
   ]
  },
  {
   "cell_type": "code",
   "execution_count": 50,
   "id": "be573ec4",
   "metadata": {},
   "outputs": [
    {
     "name": "stdout",
     "output_type": "stream",
     "text": [
      "Requirement already satisfied: ipywidgets in c:\\users\\sangw\\miniconda3\\lib\\site-packages (7.6.5)Note: you may need to restart the kernel to use updated packages.\n",
      "\n",
      "Requirement already satisfied: ipykernel>=4.5.1 in c:\\users\\sangw\\miniconda3\\lib\\site-packages (from ipywidgets) (6.15.2)\n",
      "Requirement already satisfied: ipython>=4.0.0 in c:\\users\\sangw\\miniconda3\\lib\\site-packages (from ipywidgets) (8.4.0)\n",
      "Requirement already satisfied: traitlets>=4.3.1 in c:\\users\\sangw\\miniconda3\\lib\\site-packages (from ipywidgets) (5.1.1)\n",
      "Requirement already satisfied: ipython-genutils~=0.2.0 in c:\\users\\sangw\\miniconda3\\lib\\site-packages (from ipywidgets) (0.2.0)\n",
      "Requirement already satisfied: widgetsnbextension~=3.5.0 in c:\\users\\sangw\\miniconda3\\lib\\site-packages (from ipywidgets) (3.5.2)\n",
      "Requirement already satisfied: nbformat>=4.2.0 in c:\\users\\sangw\\miniconda3\\lib\\site-packages (from ipywidgets) (5.5.0)\n",
      "Requirement already satisfied: jupyterlab-widgets>=1.0.0 in c:\\users\\sangw\\miniconda3\\lib\\site-packages (from ipywidgets) (1.0.0)\n",
      "Requirement already satisfied: tornado>=6.1 in c:\\users\\sangw\\miniconda3\\lib\\site-packages (from ipykernel>=4.5.1->ipywidgets) (6.2)\n",
      "Requirement already satisfied: matplotlib-inline>=0.1 in c:\\users\\sangw\\miniconda3\\lib\\site-packages (from ipykernel>=4.5.1->ipywidgets) (0.1.6)\n",
      "Requirement already satisfied: pyzmq>=17 in c:\\users\\sangw\\miniconda3\\lib\\site-packages (from ipykernel>=4.5.1->ipywidgets) (23.2.0)\n",
      "Requirement already satisfied: debugpy>=1.0 in c:\\users\\sangw\\miniconda3\\lib\\site-packages (from ipykernel>=4.5.1->ipywidgets) (1.5.1)\n",
      "Requirement already satisfied: psutil in c:\\users\\sangw\\miniconda3\\lib\\site-packages (from ipykernel>=4.5.1->ipywidgets) (5.9.0)\n",
      "Requirement already satisfied: jupyter-client>=6.1.12 in c:\\users\\sangw\\miniconda3\\lib\\site-packages (from ipykernel>=4.5.1->ipywidgets) (7.3.5)\n",
      "Requirement already satisfied: nest-asyncio in c:\\users\\sangw\\miniconda3\\lib\\site-packages (from ipykernel>=4.5.1->ipywidgets) (1.5.5)\n",
      "Requirement already satisfied: packaging in c:\\users\\sangw\\miniconda3\\lib\\site-packages (from ipykernel>=4.5.1->ipywidgets) (21.3)\n",
      "Requirement already satisfied: prompt-toolkit!=3.0.0,!=3.0.1,<3.1.0,>=2.0.0 in c:\\users\\sangw\\miniconda3\\lib\\site-packages (from ipython>=4.0.0->ipywidgets) (3.0.20)\n",
      "Requirement already satisfied: pickleshare in c:\\users\\sangw\\miniconda3\\lib\\site-packages (from ipython>=4.0.0->ipywidgets) (0.7.5)\n",
      "Requirement already satisfied: backcall in c:\\users\\sangw\\miniconda3\\lib\\site-packages (from ipython>=4.0.0->ipywidgets) (0.2.0)\n",
      "Requirement already satisfied: pygments>=2.4.0 in c:\\users\\sangw\\miniconda3\\lib\\site-packages (from ipython>=4.0.0->ipywidgets) (2.11.2)\n",
      "Requirement already satisfied: setuptools>=18.5 in c:\\users\\sangw\\miniconda3\\lib\\site-packages (from ipython>=4.0.0->ipywidgets) (61.2.0)\n",
      "Requirement already satisfied: colorama in c:\\users\\sangw\\miniconda3\\lib\\site-packages (from ipython>=4.0.0->ipywidgets) (0.4.4)\n",
      "Requirement already satisfied: jedi>=0.16 in c:\\users\\sangw\\miniconda3\\lib\\site-packages (from ipython>=4.0.0->ipywidgets) (0.18.1)\n",
      "Requirement already satisfied: stack-data in c:\\users\\sangw\\miniconda3\\lib\\site-packages (from ipython>=4.0.0->ipywidgets) (0.2.0)\n",
      "Requirement already satisfied: decorator in c:\\users\\sangw\\miniconda3\\lib\\site-packages (from ipython>=4.0.0->ipywidgets) (5.1.1)\n",
      "Requirement already satisfied: parso<0.9.0,>=0.8.0 in c:\\users\\sangw\\miniconda3\\lib\\site-packages (from jedi>=0.16->ipython>=4.0.0->ipywidgets) (0.8.3)\n",
      "Requirement already satisfied: python-dateutil>=2.8.2 in c:\\users\\sangw\\miniconda3\\lib\\site-packages (from jupyter-client>=6.1.12->ipykernel>=4.5.1->ipywidgets) (2.8.2)\n",
      "Requirement already satisfied: jupyter-core>=4.9.2 in c:\\users\\sangw\\miniconda3\\lib\\site-packages (from jupyter-client>=6.1.12->ipykernel>=4.5.1->ipywidgets) (4.11.1)\n",
      "Requirement already satisfied: entrypoints in c:\\users\\sangw\\miniconda3\\lib\\site-packages (from jupyter-client>=6.1.12->ipykernel>=4.5.1->ipywidgets) (0.4)\n",
      "Requirement already satisfied: pywin32>=1.0 in c:\\users\\sangw\\miniconda3\\lib\\site-packages (from jupyter-core>=4.9.2->jupyter-client>=6.1.12->ipykernel>=4.5.1->ipywidgets) (302)\n",
      "Requirement already satisfied: jsonschema>=2.6 in c:\\users\\sangw\\miniconda3\\lib\\site-packages (from nbformat>=4.2.0->ipywidgets) (4.16.0)\n",
      "Requirement already satisfied: fastjsonschema in c:\\users\\sangw\\miniconda3\\lib\\site-packages (from nbformat>=4.2.0->ipywidgets) (2.16.2)\n",
      "Requirement already satisfied: attrs>=17.4.0 in c:\\users\\sangw\\miniconda3\\lib\\site-packages (from jsonschema>=2.6->nbformat>=4.2.0->ipywidgets) (21.4.0)\n",
      "Requirement already satisfied: pyrsistent!=0.17.0,!=0.17.1,!=0.17.2,>=0.14.0 in c:\\users\\sangw\\miniconda3\\lib\\site-packages (from jsonschema>=2.6->nbformat>=4.2.0->ipywidgets) (0.18.0)\n",
      "Requirement already satisfied: wcwidth in c:\\users\\sangw\\miniconda3\\lib\\site-packages (from prompt-toolkit!=3.0.0,!=3.0.1,<3.1.0,>=2.0.0->ipython>=4.0.0->ipywidgets) (0.2.5)\n",
      "Requirement already satisfied: six>=1.5 in c:\\users\\sangw\\miniconda3\\lib\\site-packages (from python-dateutil>=2.8.2->jupyter-client>=6.1.12->ipykernel>=4.5.1->ipywidgets) (1.16.0)\n",
      "Requirement already satisfied: notebook>=4.4.1 in c:\\users\\sangw\\miniconda3\\lib\\site-packages (from widgetsnbextension~=3.5.0->ipywidgets) (6.4.12)\n",
      "Requirement already satisfied: Send2Trash>=1.8.0 in c:\\users\\sangw\\miniconda3\\lib\\site-packages (from notebook>=4.4.1->widgetsnbextension~=3.5.0->ipywidgets) (1.8.0)\n",
      "Requirement already satisfied: terminado>=0.8.3 in c:\\users\\sangw\\miniconda3\\lib\\site-packages (from notebook>=4.4.1->widgetsnbextension~=3.5.0->ipywidgets) (0.13.1)\n",
      "Requirement already satisfied: prometheus-client in c:\\users\\sangw\\miniconda3\\lib\\site-packages (from notebook>=4.4.1->widgetsnbextension~=3.5.0->ipywidgets) (0.14.1)\n",
      "Requirement already satisfied: jinja2 in c:\\users\\sangw\\miniconda3\\lib\\site-packages (from notebook>=4.4.1->widgetsnbextension~=3.5.0->ipywidgets) (3.1.2)\n",
      "Requirement already satisfied: nbconvert>=5 in c:\\users\\sangw\\miniconda3\\lib\\site-packages (from notebook>=4.4.1->widgetsnbextension~=3.5.0->ipywidgets) (6.4.4)\n",
      "Requirement already satisfied: argon2-cffi in c:\\users\\sangw\\miniconda3\\lib\\site-packages (from notebook>=4.4.1->widgetsnbextension~=3.5.0->ipywidgets) (21.3.0)\n",
      "Requirement already satisfied: testpath in c:\\users\\sangw\\miniconda3\\lib\\site-packages (from nbconvert>=5->notebook>=4.4.1->widgetsnbextension~=3.5.0->ipywidgets) (0.6.0)\n",
      "Requirement already satisfied: mistune<2,>=0.8.1 in c:\\users\\sangw\\miniconda3\\lib\\site-packages (from nbconvert>=5->notebook>=4.4.1->widgetsnbextension~=3.5.0->ipywidgets) (0.8.4)\n",
      "Requirement already satisfied: defusedxml in c:\\users\\sangw\\miniconda3\\lib\\site-packages (from nbconvert>=5->notebook>=4.4.1->widgetsnbextension~=3.5.0->ipywidgets) (0.7.1)\n",
      "Requirement already satisfied: beautifulsoup4 in c:\\users\\sangw\\miniconda3\\lib\\site-packages (from nbconvert>=5->notebook>=4.4.1->widgetsnbextension~=3.5.0->ipywidgets) (4.11.1)\n",
      "Requirement already satisfied: nbclient<0.6.0,>=0.5.0 in c:\\users\\sangw\\miniconda3\\lib\\site-packages (from nbconvert>=5->notebook>=4.4.1->widgetsnbextension~=3.5.0->ipywidgets) (0.5.13)\n",
      "Requirement already satisfied: jupyterlab-pygments in c:\\users\\sangw\\miniconda3\\lib\\site-packages (from nbconvert>=5->notebook>=4.4.1->widgetsnbextension~=3.5.0->ipywidgets) (0.1.2)\n",
      "Requirement already satisfied: bleach in c:\\users\\sangw\\miniconda3\\lib\\site-packages (from nbconvert>=5->notebook>=4.4.1->widgetsnbextension~=3.5.0->ipywidgets) (4.1.0)\n",
      "Requirement already satisfied: pandocfilters>=1.4.1 in c:\\users\\sangw\\miniconda3\\lib\\site-packages (from nbconvert>=5->notebook>=4.4.1->widgetsnbextension~=3.5.0->ipywidgets) (1.5.0)\n",
      "Requirement already satisfied: MarkupSafe>=2.0 in c:\\users\\sangw\\miniconda3\\lib\\site-packages (from jinja2->notebook>=4.4.1->widgetsnbextension~=3.5.0->ipywidgets) (2.1.1)\n",
      "Requirement already satisfied: pywinpty>=1.1.0 in c:\\users\\sangw\\miniconda3\\lib\\site-packages (from terminado>=0.8.3->notebook>=4.4.1->widgetsnbextension~=3.5.0->ipywidgets) (2.0.2)\n",
      "Requirement already satisfied: argon2-cffi-bindings in c:\\users\\sangw\\miniconda3\\lib\\site-packages (from argon2-cffi->notebook>=4.4.1->widgetsnbextension~=3.5.0->ipywidgets) (21.2.0)\n",
      "Requirement already satisfied: cffi>=1.0.1 in c:\\users\\sangw\\miniconda3\\lib\\site-packages (from argon2-cffi-bindings->argon2-cffi->notebook>=4.4.1->widgetsnbextension~=3.5.0->ipywidgets) (1.15.0)\n",
      "Requirement already satisfied: pycparser in c:\\users\\sangw\\miniconda3\\lib\\site-packages (from cffi>=1.0.1->argon2-cffi-bindings->argon2-cffi->notebook>=4.4.1->widgetsnbextension~=3.5.0->ipywidgets) (2.21)\n",
      "Requirement already satisfied: soupsieve>1.2 in c:\\users\\sangw\\miniconda3\\lib\\site-packages (from beautifulsoup4->nbconvert>=5->notebook>=4.4.1->widgetsnbextension~=3.5.0->ipywidgets) (2.3.2.post1)\n",
      "Requirement already satisfied: webencodings in c:\\users\\sangw\\miniconda3\\lib\\site-packages (from bleach->nbconvert>=5->notebook>=4.4.1->widgetsnbextension~=3.5.0->ipywidgets) (0.5.1)\n",
      "Requirement already satisfied: pyparsing!=3.0.5,>=2.0.2 in c:\\users\\sangw\\miniconda3\\lib\\site-packages (from packaging->ipykernel>=4.5.1->ipywidgets) (3.0.9)\n",
      "Requirement already satisfied: pure-eval in c:\\users\\sangw\\miniconda3\\lib\\site-packages (from stack-data->ipython>=4.0.0->ipywidgets) (0.2.2)\n",
      "Requirement already satisfied: asttokens in c:\\users\\sangw\\miniconda3\\lib\\site-packages (from stack-data->ipython>=4.0.0->ipywidgets) (2.0.5)\n",
      "Requirement already satisfied: executing in c:\\users\\sangw\\miniconda3\\lib\\site-packages (from stack-data->ipython>=4.0.0->ipywidgets) (0.8.3)\n"
     ]
    }
   ],
   "source": [
    "%pip install ipywidgets"
   ]
  },
  {
   "cell_type": "code",
   "execution_count": 52,
   "id": "830a8b19",
   "metadata": {},
   "outputs": [
    {
     "data": {
      "application/vnd.jupyter.widget-view+json": {
       "model_id": "1fee93b9d2a145f692cc0e6aaf7f1e07",
       "version_major": 2,
       "version_minor": 0
      },
      "text/plain": [
       "Button(button_style='success', description='Record', icon='microphone', style=ButtonStyle(), tooltip='Record')"
      ]
     },
     "metadata": {},
     "output_type": "display_data"
    },
    {
     "data": {
      "application/vnd.jupyter.widget-view+json": {
       "model_id": "ae6a8e3f557f4df99717caecaf20917a",
       "version_major": 2,
       "version_minor": 0
      },
      "text/plain": [
       "Output()"
      ]
     },
     "metadata": {},
     "output_type": "display_data"
    }
   ],
   "source": [
    "import ipywidgets as widgets\n",
    "from IPython.display import display\n",
    "\n",
    "record_button = widgets.Button(\n",
    "    description='Record',\n",
    "    disabled=False,\n",
    "    button_style='success',\n",
    "    tooltip='Record',\n",
    "    icon='microphone'\n",
    ")\n",
    "\n",
    "summary = widgets.Output()\n",
    "\n",
    "def start_recording(data):\n",
    "    with summary:\n",
    "        display(\"Starting the recording.\")\n",
    "        record_microphone()\n",
    "        display(\"Finished recording.\")\n",
    "        transcript = voice_recognition(\"temp.mp3\")\n",
    "        display(f\"Transcript: {transcript}\")\n",
    "\n",
    "record_button.on_click(start_recording)\n",
    "\n",
    "display(record_button, summary)"
   ]
  }
 ],
 "metadata": {
  "kernelspec": {
   "display_name": "Python 3 (ipykernel)",
   "language": "python",
   "name": "python3"
  },
  "language_info": {
   "codemirror_mode": {
    "name": "ipython",
    "version": 3
   },
   "file_extension": ".py",
   "mimetype": "text/x-python",
   "name": "python",
   "nbconvert_exporter": "python",
   "pygments_lexer": "ipython3",
   "version": "3.9.12"
  }
 },
 "nbformat": 4,
 "nbformat_minor": 5
}
